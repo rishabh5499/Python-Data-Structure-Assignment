{
 "cells": [
  {
   "cell_type": "markdown",
   "id": "88ebc297-d5ce-4dac-87dd-e6edcc768d0e",
   "metadata": {},
   "source": [
    "1. What are data structures, and why are they important?\n",
    "   - Data structures are methods of organizing and storing data in a computer to allow for efficient access and modification. They provide a specific format for arranging data, which is important for developing effective and well-designed algorithms.\n",
    "\n",
    "    - They are important because the choice of data structure directly impacts a program's performance. Using the right structure can reduce the time and memory needed to process data. Example, finding a specific item in a dictionary is far more efficient than searching for it in a long, unorganized list."
   ]
  },
  {
   "cell_type": "markdown",
   "id": "3f636d9e-baa9-42ef-b451-5fcea3bbcc13",
   "metadata": {},
   "source": [
    "2.  Explain the difference between mutable and immutable data types with examples.\n",
    "   - Mutable data types can be changed after they are created. This means we can modify their content or state without creating a new object in memory. A change to a mutable object changes the original object itself. Examples of mutable types in Python include lists, dictionaries.\n",
    "     \n",
    "   - Immutable data types, cannot be altered after creation. If we try to modify an immutable object, the Python will create a new object with the new value. The original object remains unchanged. Examples of immutable types include integers, floats, strings, and tuples."
   ]
  },
  {
   "cell_type": "markdown",
   "id": "d23b42e9-4fc6-4b62-aef6-2c50354fcc96",
   "metadata": {},
   "source": [
    "3. What are the main differences between lists and tuples in Python?\n",
    "   - The main differences between lists and tuples in Python are mutability, syntax, and use cases.\n",
    "\n",
    "   - Mutability: Lists are mutable, meaning their elements can be changed, added, or removed after creation. Tuples are immutable, so they cannot be altered once created.\n",
    "  \n",
    "   - Syntax: Lists are defined using square brackets [], while tuples use parentheses ().\n",
    "  \n",
    "   - Use Cases: Lists are ideal for collections of items that will change throughout the program. Tuples are used for data that should not change, like coordinates or fixed records."
   ]
  },
  {
   "cell_type": "markdown",
   "id": "ed88cd20-1719-4c79-8569-212bc8d4f150",
   "metadata": {},
   "source": [
    "4.  Describe how dictionaries store data.\n",
    "   - Dictionaries in Python store data as a collection of key-value pairs. Each key is unique and is used to retrieve its associated value. A dictionary, like a physical dictionary, where I look up a word (the key) to find its definition (the value).\n",
    "\n",
    "   - The key must be an immutable data type, while the value can be any data type, including a list, another dictionary, or a function. This structure allows for fast lookup and retrieval of data, making dictionaries highly efficient for tasks that require associating one piece of information with another."
   ]
  },
  {
   "cell_type": "markdown",
   "id": "b4dd44fc-facf-4e91-a937-59af4b668e3a",
   "metadata": {},
   "source": [
    "5. Why might you use a set instead of a list in Python?\n",
    "   - Uniqueness: Sets automatically enforce uniqueness. Any duplicate elements will be ignored. Lists allow for duplicate elements.\n",
    "     \n",
    "   - Performance: Sets are optimized for checking if an element exists within the collection. For large collections, checking if an item is in a set  is significantly faster than doing the same for a list.\n",
    "     \n",
    "   - Mathematical Operations: Sets provide built-in methods for mathematical set operations like union, intersection, and difference, which are not available for lists."
   ]
  },
  {
   "cell_type": "markdown",
   "id": "cb0c2d9a-47f0-49c0-8288-d8159514806b",
   "metadata": {},
   "source": [
    "6. What is a string in Python, and how is it different from a list?\n",
    "   - A string in Python is an immutable sequence of characters, used to represent text. The differences are in:\n",
    "   - Mutability: Strings are immutable. Once created, I cannot change individual characters within the string. Lists are mutable, allowing to add, remove, or change elements.\n",
    "   - Data Type: Strings can only contain characters, whereas lists can contain elements of any data type, including numbers, booleans, or even other lists.\n",
    "   - Purpose: Strings are designed for handling text data. Lists are general-purpose containers for ordered collections of items."
   ]
  },
  {
   "cell_type": "markdown",
   "id": "9d3db71f-0787-4132-abc1-543ed4569a6e",
   "metadata": {},
   "source": [
    "7. How do tuples ensure data integrity in Python?\n",
    "   - Tuples ensure data integrity in Python because they are immutable. This means that once a tuple is created, its elements cannot be changed, added, or removed.\n",
    "   - This immutability is a guarantee that the data within the tuple will remain constant throughout the program's execution, preventing accidental modification. This makes tuples ideal for storing fixed data, such as records that should not be altered, or as keys in a dictionary where a constant hashable value is required."
   ]
  },
  {
   "cell_type": "markdown",
   "id": "a2bb3126-4191-42e4-bc83-b12c88a2602d",
   "metadata": {},
   "source": [
    "8. What is a hash table, and how does it relate to dictionaries in Python?\n",
    "   - A hash table is a data structure that stores key-value pairs by using a hash function to map keys to an index in an array. This allows for extremely fast data retrieval.\n",
    "   - Python's dictionaries are implemented as hash tables. When I add a key-value pair to a dictionary, Python's hash function computes a unique hash value for the key. This hash value is then used to determine where to store the value in memory. When I want to retrieve the value, the same process is used, allowing for a near-instantaneous lookup. "
   ]
  },
  {
   "cell_type": "markdown",
   "id": "db1f0ad5-4c73-4f67-b553-222347b9a6a6",
   "metadata": {},
   "source": [
    "9. Can lists contain different data types in Python?\n",
    "    - Yes, lists can contain different data types in Python. This is one of their key features. I can have a list that includes integers, strings, floats, booleans, or even other lists and dictionaries, all within the same list. "
   ]
  },
  {
   "cell_type": "markdown",
   "id": "2369871b-a1aa-4a3b-a705-d16554e3ff4a",
   "metadata": {},
   "source": [
    "10. Explain why strings are immutable in Python.\n",
    "    - Strings are immutable in Python, which means once a string is created, it cannot be changed. This immutability is an intentional design choice that offers several benefits. For example, it allows strings to be used as keys in dictionaries"
   ]
  },
  {
   "cell_type": "markdown",
   "id": "c220966b-2101-4e06-a43c-6ccc3944679e",
   "metadata": {},
   "source": [
    "11. What advantages do dictionaries offer over lists for certain tasks?\n",
    "    - Dictionaries are better than lists for certain tasks because they offer faster data retrieval. Dictionaries store data as key-value pairs, allowing to access a value directly by its unique key, which is faster than searching for an element by index in a list."
   ]
  },
  {
   "cell_type": "markdown",
   "id": "03a3880c-0317-4207-aaa9-d7046fc6c4ea",
   "metadata": {},
   "source": [
    "12. Describe a scenario where using a tuple would be preferable over a list.\n",
    "    - Using a tuple is preferable to a list when I need to store data that should not be changed or modified. A good scenario is storing a person's coordinates (latitude and longitude) or the days of the week, as these values are constant and do not need to be changed."
   ]
  },
  {
   "cell_type": "markdown",
   "id": "d41b77e6-080a-4797-942a-589d1077f0c8",
   "metadata": {},
   "source": [
    "13. How do sets handle duplicate values in Python?\n",
    "    - Sets handle duplicate values by automatically ignoring them. If I try to add an element that already exists in the set, the set will simply not change. This ensures that every element in a set is unique."
   ]
  },
  {
   "cell_type": "markdown",
   "id": "411b0791-3353-4267-91bf-22ec128b3dee",
   "metadata": {},
   "source": [
    "14. How does the \"in\" keyword work differently for lists and dictionaries?\n",
    "    - The \"in\" keyword checks for the existence of an element within a list, but it checks for the existence of a key within a dictionary. For example, 'a' in my_list checks if the value 'a' is in the list, while 'a' in my_dictionary checks if 'a' is a key in the dictionary."
   ]
  },
  {
   "cell_type": "markdown",
   "id": "6f01368c-bbe3-452a-ab07-517b60d881a5",
   "metadata": {},
   "source": [
    "15. Can you modify the elements of a tuple? Explain why or why not.\n",
    "    - No, we cannot modify the elements of a tuple because tuples are immutable. Once a tuple is created, its size and content cannot be changed. Any attempt to modify it will result in an error."
   ]
  },
  {
   "cell_type": "markdown",
   "id": "7cdc876e-f364-42f1-88f7-ef50a76f5957",
   "metadata": {},
   "source": [
    "16. What is a nested dictionary, and give an example of its use case?\n",
    "    - A nested dictionary is a dictionary that contains other dictionaries as its values. A common use case for this is to represent structured, hierarchical data, like a database record or a JSON object.\n",
    "    - For example, a nested dictionary could represent a list of student records, where each student's record is a dictionary containing their name, age, and a dictionary of their subjects and grades."
   ]
  },
  {
   "cell_type": "markdown",
   "id": "2b0870cb-6c9f-490f-9981-9928fcebe821",
   "metadata": {},
   "source": [
    "17. Describe the time complexity of accessing elements in a dictionary.\n",
    "    - The time complexity of accessing elements in a dictionary is O(1) on average. This means that the time it takes to access a value remains constant, regardless of the size of the dictionary. This is because dictionaries are implemented using a hash table, which allows for direct and rapid lookups based on a key's hash value."
   ]
  },
  {
   "cell_type": "markdown",
   "id": "caaf17d9-9322-4749-8ef5-ab18234aead6",
   "metadata": {},
   "source": [
    "18. In what situations are lists preferred over dictionaries?\n",
    "    - Lists are preferred over dictionaries in situations where the data needs to be ordered or when I need to access elements by their index. They are also more suitable when I have a simple sequence of items and do not need a key to access each item."
   ]
  },
  {
   "cell_type": "markdown",
   "id": "5f967066-514f-432a-8b5a-05891cb3c171",
   "metadata": {},
   "source": [
    "19. Why are dictionaries considered unordered, and how does that affect data retrieval?\n",
    "    - Dictionaries are considered unordered because they do not maintain the order in which items are inserted. This is because they are optimized for fast key-based lookups, not for sequential access. As a result, when iterating through a dictionary, the order of the key-value pairs is not guaranteed."
   ]
  },
  {
   "cell_type": "markdown",
   "id": "7c4da70a-aecf-41cb-8293-597d0e121982",
   "metadata": {},
   "source": [
    "20. Explain the difference between a list and a dictionary in terms of data retrieval.\n",
    "    - The main difference in data retrieval is how elements are accessed.\n",
    "    - In a list, I retrieve data by its integer index, which represents its position in the sequence.\n",
    "    - In a dictionary, I retrieve data by its unique key, which can be a string, number, or tuple."
   ]
  },
  {
   "cell_type": "code",
   "execution_count": null,
   "id": "076421b8-c4c1-4daa-8858-87da6462560a",
   "metadata": {},
   "outputs": [],
   "source": []
  },
  {
   "cell_type": "code",
   "execution_count": 1,
   "id": "54840bac-52b8-4cee-9133-4d431554306c",
   "metadata": {},
   "outputs": [
    {
     "name": "stdout",
     "output_type": "stream",
     "text": [
      "Rishabh\n"
     ]
    }
   ],
   "source": [
    "# 1. Write a code to create a string with your name and print it.\n",
    "\n",
    "my_name = \"Rishabh\"\n",
    "print(my_name)"
   ]
  },
  {
   "cell_type": "code",
   "execution_count": 22,
   "id": "a4e8984c-2447-44e7-90e3-2bb5412caaa9",
   "metadata": {},
   "outputs": [
    {
     "name": "stdout",
     "output_type": "stream",
     "text": [
      "11\n"
     ]
    }
   ],
   "source": [
    "# 2. Write a code to find the length of the string \"Hello World\".\n",
    "\n",
    "my_string = \"Hello World\"\n",
    "print(len(my_string))"
   ]
  },
  {
   "cell_type": "code",
   "execution_count": 21,
   "id": "63d78825-5324-47c8-bbb3-df7d176afb0e",
   "metadata": {},
   "outputs": [
    {
     "name": "stdout",
     "output_type": "stream",
     "text": [
      "Pyt\n"
     ]
    }
   ],
   "source": [
    "# 3. Write a code to slice the first 3 characters from the string \"Python Programming\".\n",
    "\n",
    "my_string = \"Python Programming\"\n",
    "print(my_string[:3])"
   ]
  },
  {
   "cell_type": "code",
   "execution_count": 20,
   "id": "1d41e350-cca8-406a-af9c-34cc165b5e07",
   "metadata": {},
   "outputs": [
    {
     "name": "stdout",
     "output_type": "stream",
     "text": [
      "HELLO\n"
     ]
    }
   ],
   "source": [
    "# 4. Write a code to convert the string \"hello\" to uppercase.\n",
    "\n",
    "my_string = \"hello\"\n",
    "print(my_string.upper())"
   ]
  },
  {
   "cell_type": "code",
   "execution_count": 19,
   "id": "d7ba162a-c4a8-487d-9342-209e18b57e99",
   "metadata": {},
   "outputs": [
    {
     "name": "stdout",
     "output_type": "stream",
     "text": [
      "I like orange\n"
     ]
    }
   ],
   "source": [
    "# 5. Write a code to replace the word \"apple\" with \"orange\" in the string \"I like apple\".\n",
    "\n",
    "my_string = \"I like apple\"\n",
    "print(my_string.replace(\"apple\", \"orange\"))"
   ]
  },
  {
   "cell_type": "code",
   "execution_count": 6,
   "id": "27095db3-c9fc-4b7a-927f-2cb9c910ef0f",
   "metadata": {},
   "outputs": [
    {
     "name": "stdout",
     "output_type": "stream",
     "text": [
      "[1, 2, 3, 4, 5]\n"
     ]
    }
   ],
   "source": [
    "# 6. Write a code to create a list with numbers 1 to 5 and print it.\n",
    "\n",
    "my_list = [1, 2, 3, 4, 5]\n",
    "print(my_list)"
   ]
  },
  {
   "cell_type": "code",
   "execution_count": 7,
   "id": "468088ed-7516-4dfc-983c-999445c651b4",
   "metadata": {},
   "outputs": [
    {
     "name": "stdout",
     "output_type": "stream",
     "text": [
      "[1, 2, 3, 4, 10]\n"
     ]
    }
   ],
   "source": [
    "# 7. Write a code to append the number 10 to the list [1, 2, 3, 4].\n",
    "\n",
    "my_list = [1, 2, 3, 4]\n",
    "my_list.append(10)\n",
    "print(my_list)"
   ]
  },
  {
   "cell_type": "code",
   "execution_count": 8,
   "id": "ed292739-410c-4ec9-8a0a-69af473ba793",
   "metadata": {},
   "outputs": [
    {
     "name": "stdout",
     "output_type": "stream",
     "text": [
      "[1, 2, 4, 5]\n"
     ]
    }
   ],
   "source": [
    "# 8. Write a code to remove the number 3 from the list [1, 2, 3, 4, 5].\n",
    "\n",
    "my_list = [1, 2, 3, 4, 5]\n",
    "my_list.remove(3)\n",
    "print(my_list)"
   ]
  },
  {
   "cell_type": "code",
   "execution_count": 18,
   "id": "04d138ae-8fdf-4ba1-b70a-9a5193abcf40",
   "metadata": {},
   "outputs": [
    {
     "name": "stdout",
     "output_type": "stream",
     "text": [
      "b\n"
     ]
    }
   ],
   "source": [
    "# 9. Write a code to access the second element in the list ['a', 'b', 'c', 'd'].\n",
    "\n",
    "my_list = ['a', 'b', 'c', 'd']\n",
    "print(my_list[1])"
   ]
  },
  {
   "cell_type": "code",
   "execution_count": 10,
   "id": "eecf7e55-5fb8-4718-a6ea-e25f8dea4eaf",
   "metadata": {},
   "outputs": [
    {
     "name": "stdout",
     "output_type": "stream",
     "text": [
      "[50, 40, 30, 20, 10]\n"
     ]
    }
   ],
   "source": [
    "# 10. Write a code to reverse the list [10, 20, 30, 40, 50].\n",
    "\n",
    "my_list = [10, 20, 30, 40, 50]\n",
    "my_list.reverse()\n",
    "print(my_list)"
   ]
  },
  {
   "cell_type": "code",
   "execution_count": 11,
   "id": "57fb3920-0c3f-4b76-8190-f036aa8405de",
   "metadata": {},
   "outputs": [
    {
     "name": "stdout",
     "output_type": "stream",
     "text": [
      "(100, 200, 300)\n"
     ]
    }
   ],
   "source": [
    "# 11. Write a code to create a tuple with the elements 100, 200, 300 and print it.\n",
    "\n",
    "my_tuple = (100, 200, 300)\n",
    "print(my_tuple)"
   ]
  },
  {
   "cell_type": "code",
   "execution_count": 17,
   "id": "60ca05ca-5c45-43de-bd54-a8cca5354360",
   "metadata": {},
   "outputs": [
    {
     "name": "stdout",
     "output_type": "stream",
     "text": [
      "blue\n"
     ]
    }
   ],
   "source": [
    "# 12. Write a code to access the second-to-last element of the tuple ('red', 'green', 'blue', 'yellow').\n",
    "\n",
    "my_tuple = ('red', 'green', 'blue', 'yellow')\n",
    "print(my_tuple[-2])"
   ]
  },
  {
   "cell_type": "code",
   "execution_count": 16,
   "id": "66ce38ee-0df3-4b16-9ae3-bf8056251b62",
   "metadata": {},
   "outputs": [
    {
     "name": "stdout",
     "output_type": "stream",
     "text": [
      "5\n"
     ]
    }
   ],
   "source": [
    "# 13. Write a code to find the minimum number in the tuple (10, 20, 5, 15).\n",
    "\n",
    "my_tuple = (10, 20, 5, 15)\n",
    "print(min(my_tuple))"
   ]
  },
  {
   "cell_type": "code",
   "execution_count": 15,
   "id": "5a95aac5-b96b-413c-a025-3b1009893a8d",
   "metadata": {},
   "outputs": [
    {
     "name": "stdout",
     "output_type": "stream",
     "text": [
      "1\n"
     ]
    }
   ],
   "source": [
    "# 14. Write a code to find the index of the element \"cat\" in the tuple ('dog', 'cat', 'rabbit').\n",
    "\n",
    "my_tuple = ('dog', 'cat', 'rabbit')\n",
    "print(my_tuple.index(\"cat\"))"
   ]
  },
  {
   "cell_type": "code",
   "execution_count": 24,
   "id": "45534221-0988-4bac-b35f-d6847df23a05",
   "metadata": {},
   "outputs": [
    {
     "name": "stdout",
     "output_type": "stream",
     "text": [
      "True\n"
     ]
    }
   ],
   "source": [
    "# 15. Write a code to create a tuple containing three different fruits and check if \"kiwi\" is in it.\n",
    "\n",
    "fruits = ('apple', 'banana', 'kiwi', 'orange')\n",
    "print(\"kiwi\" in fruits)"
   ]
  },
  {
   "cell_type": "code",
   "execution_count": 25,
   "id": "f1b68179-f556-4b78-af87-3c001937a224",
   "metadata": {},
   "outputs": [
    {
     "name": "stdout",
     "output_type": "stream",
     "text": [
      "{'a', 'b', 'c'}\n"
     ]
    }
   ],
   "source": [
    "# 16. Write a code to create a set with the elements 'a', 'b', 'c' and print it.\n",
    "\n",
    "my_set = {'a', 'b', 'c'}\n",
    "print(my_set)"
   ]
  },
  {
   "cell_type": "code",
   "execution_count": 26,
   "id": "15b0098d-46cd-46d5-8375-0777559edd52",
   "metadata": {},
   "outputs": [
    {
     "name": "stdout",
     "output_type": "stream",
     "text": [
      "set()\n"
     ]
    }
   ],
   "source": [
    "# 17. Write a code to clear all elements from the set {1, 2, 3, 4, 5}.\n",
    "\n",
    "my_set = {1, 2, 3, 4, 5}\n",
    "my_set.clear()\n",
    "print(my_set)"
   ]
  },
  {
   "cell_type": "code",
   "execution_count": 27,
   "id": "34391dbd-093b-4f6f-9747-dfe79c7b4d60",
   "metadata": {},
   "outputs": [
    {
     "name": "stdout",
     "output_type": "stream",
     "text": [
      "{1, 2, 3}\n"
     ]
    }
   ],
   "source": [
    "# 18. Write a code to remove the element 4 from the set {1, 2, 3, 4}.\n",
    "\n",
    "my_set = {1, 2, 3, 4}\n",
    "my_set.remove(4)\n",
    "print(my_set)"
   ]
  },
  {
   "cell_type": "code",
   "execution_count": 28,
   "id": "0c405768-b8ae-4c62-9bbd-39906e8fdbf3",
   "metadata": {},
   "outputs": [
    {
     "name": "stdout",
     "output_type": "stream",
     "text": [
      "{1, 2, 3, 4, 5}\n"
     ]
    }
   ],
   "source": [
    "# 19. Write a code to find the union of two sets {1, 2, 3} and {3, 4, 5}.\n",
    "\n",
    "set1 = {1, 2, 3}\n",
    "set2 = {3, 4, 5}\n",
    "print(set1.union(set2))"
   ]
  },
  {
   "cell_type": "code",
   "execution_count": 29,
   "id": "bb3d3984-94de-4227-867c-de6bbde3945a",
   "metadata": {},
   "outputs": [
    {
     "name": "stdout",
     "output_type": "stream",
     "text": [
      "{2, 3}\n"
     ]
    }
   ],
   "source": [
    "# 20. Write a code to find the intersection of two sets {1, 2, 3} and {2, 3, 4}.\n",
    "\n",
    "set1 = {1, 2, 3}\n",
    "set2 = {2, 3, 4}\n",
    "print(set1.intersection(set2))"
   ]
  },
  {
   "cell_type": "code",
   "execution_count": 30,
   "id": "ac8f4784-014c-46f6-989b-bda935e8b818",
   "metadata": {},
   "outputs": [
    {
     "name": "stdout",
     "output_type": "stream",
     "text": [
      "{'name': 'John', 'age': 30, 'city': 'New York'}\n"
     ]
    }
   ],
   "source": [
    "# 21. Write a code to create a dictionary with the keys \"name\", \"age\", and \"city\", and print it.\n",
    "\n",
    "my_dict = {\"name\": \"John\", \"age\": 30, \"city\": \"New York\"}\n",
    "print(my_dict)"
   ]
  },
  {
   "cell_type": "code",
   "execution_count": 31,
   "id": "4725b557-d594-4882-a67b-0f8a20c63742",
   "metadata": {},
   "outputs": [
    {
     "name": "stdout",
     "output_type": "stream",
     "text": [
      "{'name': 'John', 'age': 25, 'country': 'USA'}\n"
     ]
    }
   ],
   "source": [
    "# 22. Write a code to add a new key-value pair \"country\": \"USA\" to the dictionary {'name': 'John', 'age': 25}.\n",
    "\n",
    "my_dict = {'name': 'John', 'age': 25}\n",
    "my_dict[\"country\"] = \"USA\"\n",
    "print(my_dict)"
   ]
  },
  {
   "cell_type": "code",
   "execution_count": 32,
   "id": "fc281257-9174-4693-a551-7e2a37a39e32",
   "metadata": {},
   "outputs": [
    {
     "name": "stdout",
     "output_type": "stream",
     "text": [
      "Alice\n"
     ]
    }
   ],
   "source": [
    "# 23. Write a code to access the value associated with the key \"name\" in the dictionary {'name': 'Alice', 'age': 30}.\n",
    "\n",
    "my_dict = {'name': 'Alice', 'age': 30}\n",
    "print(my_dict[\"name\"])"
   ]
  },
  {
   "cell_type": "code",
   "execution_count": 33,
   "id": "27af6278-9813-48b0-82e7-1298f554ef30",
   "metadata": {},
   "outputs": [
    {
     "name": "stdout",
     "output_type": "stream",
     "text": [
      "{'name': 'Bob', 'city': 'New York'}\n"
     ]
    }
   ],
   "source": [
    "# 24. Write a code to remove the key \"age\" from the dictionary {'name': 'Bob', 'age': 22, 'city': 'New York'}.\n",
    "\n",
    "my_dict = {'name': 'Bob', 'age': 22, 'city': 'New York'}\n",
    "del my_dict[\"age\"]\n",
    "print(my_dict)"
   ]
  },
  {
   "cell_type": "code",
   "execution_count": 35,
   "id": "997c4eaf-31c5-4686-976d-459f500f7065",
   "metadata": {},
   "outputs": [
    {
     "name": "stdout",
     "output_type": "stream",
     "text": [
      "True\n"
     ]
    }
   ],
   "source": [
    "# 25. Write a code to check if the key \"city\" exists in the dictionary {'name': 'Alice', 'city': 'Paris'}.\n",
    "\n",
    "my_dict = {'name': 'Alice', 'city': 'Paris'}\n",
    "print(\"city\" in my_dict)"
   ]
  },
  {
   "cell_type": "code",
   "execution_count": 36,
   "id": "7d257c90-36a9-4334-87f9-e00ab4fc1a86",
   "metadata": {},
   "outputs": [
    {
     "name": "stdout",
     "output_type": "stream",
     "text": [
      "[1, 2, 3]\n",
      "(4, 5, 6)\n",
      "{'a': 7, 'b': 8}\n"
     ]
    }
   ],
   "source": [
    "# 26. Write a code to create a list, a tuple, and a dictionary, and print them all.\n",
    "\n",
    "my_list = [1, 2, 3]\n",
    "my_tuple = (4, 5, 6)\n",
    "my_dict = {\"a\": 7, \"b\": 8}\n",
    "print(my_list)\n",
    "print(my_tuple)\n",
    "print(my_dict)"
   ]
  },
  {
   "cell_type": "code",
   "execution_count": 37,
   "id": "97ed4343-e45b-41a6-a24e-797264142aed",
   "metadata": {},
   "outputs": [
    {
     "name": "stdout",
     "output_type": "stream",
     "text": [
      "[3, 14, 37, 90, 99]\n"
     ]
    }
   ],
   "source": [
    "# 27. Write a code to create a list of 5 random numbers between 1 and 100, sort it in ascending order, and print the result.\n",
    "\n",
    "import random\n",
    "\n",
    "random_numbers = [random.randint(1, 100) for _ in range(5)]\n",
    "random_numbers.sort()\n",
    "print(random_numbers)"
   ]
  },
  {
   "cell_type": "code",
   "execution_count": 39,
   "id": "3c308ebf-caa0-420a-b764-420ee4c42c98",
   "metadata": {},
   "outputs": [
    {
     "name": "stdout",
     "output_type": "stream",
     "text": [
      "mango\n"
     ]
    }
   ],
   "source": [
    "# 28. Write a code to create a list with strings and print the element at the third index.\n",
    "\n",
    "my_list = [\"apple\", \"banana\", \"mango\", \"orange\"]\n",
    "third_element = my_list[2]\n",
    "print(third_element)"
   ]
  },
  {
   "cell_type": "code",
   "execution_count": 40,
   "id": "ab563194-ea0b-48a3-8d92-5863639f47f0",
   "metadata": {},
   "outputs": [
    {
     "name": "stdout",
     "output_type": "stream",
     "text": [
      "{'a': 1, 'b': 2, 'c': 3, 'd': 4}\n"
     ]
    }
   ],
   "source": [
    "# 29. Write a code to combine two dictionaries into one and print the result.\n",
    "\n",
    "dict1 = {\"a\": 1, \"b\": 2}\n",
    "dict2 = {\"c\": 3, \"d\": 4}\n",
    "print({**dict1, **dict2})"
   ]
  },
  {
   "cell_type": "code",
   "execution_count": 42,
   "id": "7bb20d73-96ba-4cd3-a87a-eacf317080ea",
   "metadata": {},
   "outputs": [
    {
     "name": "stdout",
     "output_type": "stream",
     "text": [
      "{'mango', 'orange', 'banana', 'apple'}\n"
     ]
    }
   ],
   "source": [
    "# 30. Write a code to convert a list of strings into a set.\n",
    "\n",
    "my_list = [\"apple\", \"banana\", \"mango\", \"orange\"]\n",
    "print(set(my_list))"
   ]
  },
  {
   "cell_type": "code",
   "execution_count": null,
   "id": "b0e6a6b5-3987-4128-b6a9-5b8e7bab2df1",
   "metadata": {},
   "outputs": [],
   "source": []
  }
 ],
 "metadata": {
  "kernelspec": {
   "display_name": "Python 3 (ipykernel)",
   "language": "python",
   "name": "python3"
  },
  "language_info": {
   "codemirror_mode": {
    "name": "ipython",
    "version": 3
   },
   "file_extension": ".py",
   "mimetype": "text/x-python",
   "name": "python",
   "nbconvert_exporter": "python",
   "pygments_lexer": "ipython3",
   "version": "3.13.0"
  },
  "panel-cell-order": [
   "35b9c2c9-5bfa-4e07-a4f4-a703d2b6251c"
  ]
 },
 "nbformat": 4,
 "nbformat_minor": 5
}
